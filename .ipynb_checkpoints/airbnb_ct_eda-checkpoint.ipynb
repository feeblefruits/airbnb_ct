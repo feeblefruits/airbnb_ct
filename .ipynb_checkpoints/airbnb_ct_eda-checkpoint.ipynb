{
 "cells": [
  {
   "cell_type": "code",
   "execution_count": 2,
   "metadata": {},
   "outputs": [],
   "source": [
    "import pandas as pd\n",
    "import geopandas as geopd\n",
    "import folium\n",
    "from folium.plugins import MarkerCluster\n",
    "from folium import IFrame\n",
    "import glob\n",
    "import numpy as np\n",
    "\n",
    "%matplotlib inline"
   ]
  },
  {
   "cell_type": "code",
   "execution_count": 3,
   "metadata": {},
   "outputs": [
    {
     "name": "stdout",
     "output_type": "stream",
     "text": [
      "calendar.csv.gz\n",
      "listings.csv.gz\n",
      "reviews.csv.gz\n"
     ]
    }
   ],
   "source": [
    "path = r'*.gz'\n",
    "folder = glob.glob(path)\n",
    "\n",
    "for file in folder:\n",
    "    print(file)"
   ]
  },
  {
   "cell_type": "code",
   "execution_count": 4,
   "metadata": {},
   "outputs": [
    {
     "name": "stderr",
     "output_type": "stream",
     "text": [
      "C:\\Users\\jcoet\\AppData\\Local\\conda\\conda\\envs\\mine\\lib\\site-packages\\IPython\\core\\interactiveshell.py:3020: DtypeWarning: Columns (43) have mixed types. Specify dtype option on import or set low_memory=False.\n",
      "  interactivity=interactivity, compiler=compiler, result=result)\n"
     ]
    }
   ],
   "source": [
    "calendar_df = pd.read_csv('calendar.csv.gz', compression='gzip')\n",
    "listings_df = pd.read_csv('listings.csv.gz', compression='gzip')\n",
    "reviews_df = pd.read_csv('reviews.csv.gz', compression='gzip')"
   ]
  },
  {
   "cell_type": "code",
   "execution_count": 5,
   "metadata": {},
   "outputs": [
    {
     "data": {
      "text/html": [
       "<div>\n",
       "<style scoped>\n",
       "    .dataframe tbody tr th:only-of-type {\n",
       "        vertical-align: middle;\n",
       "    }\n",
       "\n",
       "    .dataframe tbody tr th {\n",
       "        vertical-align: top;\n",
       "    }\n",
       "\n",
       "    .dataframe thead th {\n",
       "        text-align: right;\n",
       "    }\n",
       "</style>\n",
       "<table border=\"1\" class=\"dataframe\">\n",
       "  <thead>\n",
       "    <tr style=\"text-align: right;\">\n",
       "      <th></th>\n",
       "      <th>id</th>\n",
       "      <th>listing_url</th>\n",
       "      <th>scrape_id</th>\n",
       "      <th>last_scraped</th>\n",
       "      <th>name</th>\n",
       "      <th>summary</th>\n",
       "      <th>space</th>\n",
       "      <th>description</th>\n",
       "      <th>experiences_offered</th>\n",
       "      <th>neighborhood_overview</th>\n",
       "      <th>...</th>\n",
       "      <th>instant_bookable</th>\n",
       "      <th>is_business_travel_ready</th>\n",
       "      <th>cancellation_policy</th>\n",
       "      <th>require_guest_profile_picture</th>\n",
       "      <th>require_guest_phone_verification</th>\n",
       "      <th>calculated_host_listings_count</th>\n",
       "      <th>calculated_host_listings_count_entire_homes</th>\n",
       "      <th>calculated_host_listings_count_private_rooms</th>\n",
       "      <th>calculated_host_listings_count_shared_rooms</th>\n",
       "      <th>reviews_per_month</th>\n",
       "    </tr>\n",
       "  </thead>\n",
       "  <tbody>\n",
       "    <tr>\n",
       "      <th>16212</th>\n",
       "      <td>27367686</td>\n",
       "      <td>https://www.airbnb.com/rooms/27367686</td>\n",
       "      <td>20190720185720</td>\n",
       "      <td>2019-07-21</td>\n",
       "      <td>Nettleton House</td>\n",
       "      <td>Bold art, modern architecture above Clifton Beach</td>\n",
       "      <td>A hillside pool and lounge form a spacious the...</td>\n",
       "      <td>Bold art, modern architecture above Clifton Beach</td>\n",
       "      <td>none</td>\n",
       "      <td>The postcard image of Cape Town is iconic - a ...</td>\n",
       "      <td>...</td>\n",
       "      <td>f</td>\n",
       "      <td>f</td>\n",
       "      <td>super_strict_30</td>\n",
       "      <td>f</td>\n",
       "      <td>f</td>\n",
       "      <td>14</td>\n",
       "      <td>14</td>\n",
       "      <td>0</td>\n",
       "      <td>0</td>\n",
       "      <td>NaN</td>\n",
       "    </tr>\n",
       "  </tbody>\n",
       "</table>\n",
       "<p>1 rows × 106 columns</p>\n",
       "</div>"
      ],
      "text/plain": [
       "             id                            listing_url       scrape_id  \\\n",
       "16212  27367686  https://www.airbnb.com/rooms/27367686  20190720185720   \n",
       "\n",
       "      last_scraped             name  \\\n",
       "16212   2019-07-21  Nettleton House   \n",
       "\n",
       "                                                 summary  \\\n",
       "16212  Bold art, modern architecture above Clifton Beach   \n",
       "\n",
       "                                                   space  \\\n",
       "16212  A hillside pool and lounge form a spacious the...   \n",
       "\n",
       "                                             description experiences_offered  \\\n",
       "16212  Bold art, modern architecture above Clifton Beach                none   \n",
       "\n",
       "                                   neighborhood_overview        ...          \\\n",
       "16212  The postcard image of Cape Town is iconic - a ...        ...           \n",
       "\n",
       "      instant_bookable is_business_travel_ready cancellation_policy  \\\n",
       "16212                f                        f     super_strict_30   \n",
       "\n",
       "      require_guest_profile_picture require_guest_phone_verification  \\\n",
       "16212                             f                                f   \n",
       "\n",
       "       calculated_host_listings_count  \\\n",
       "16212                              14   \n",
       "\n",
       "       calculated_host_listings_count_entire_homes  \\\n",
       "16212                                           14   \n",
       "\n",
       "      calculated_host_listings_count_private_rooms  \\\n",
       "16212                                            0   \n",
       "\n",
       "       calculated_host_listings_count_shared_rooms  reviews_per_month  \n",
       "16212                                            0                NaN  \n",
       "\n",
       "[1 rows x 106 columns]"
      ]
     },
     "execution_count": 5,
     "metadata": {},
     "output_type": "execute_result"
    }
   ],
   "source": [
    "listings_df[listings_df['id'] == 27367686]"
   ]
  },
  {
   "cell_type": "code",
   "execution_count": 6,
   "metadata": {},
   "outputs": [
    {
     "name": "stdout",
     "output_type": "stream",
     "text": [
      "<class 'pandas.core.frame.DataFrame'>\n",
      "RangeIndex: 8429758 entries, 0 to 8429757\n",
      "Data columns (total 7 columns):\n",
      "listing_id        int64\n",
      "date              object\n",
      "available         object\n",
      "price             object\n",
      "adjusted_price    object\n",
      "minimum_nights    float64\n",
      "maximum_nights    float64\n",
      "dtypes: float64(2), int64(1), object(4)\n",
      "memory usage: 450.2+ MB\n"
     ]
    }
   ],
   "source": [
    "calendar_df.info()"
   ]
  },
  {
   "cell_type": "code",
   "execution_count": 7,
   "metadata": {},
   "outputs": [
    {
     "data": {
      "text/plain": [
       "['id',\n",
       " 'listing_url',\n",
       " 'scrape_id',\n",
       " 'last_scraped',\n",
       " 'name',\n",
       " 'summary',\n",
       " 'space',\n",
       " 'description',\n",
       " 'experiences_offered',\n",
       " 'neighborhood_overview',\n",
       " 'notes',\n",
       " 'transit',\n",
       " 'access',\n",
       " 'interaction',\n",
       " 'house_rules',\n",
       " 'thumbnail_url',\n",
       " 'medium_url',\n",
       " 'picture_url',\n",
       " 'xl_picture_url',\n",
       " 'host_id',\n",
       " 'host_url',\n",
       " 'host_name',\n",
       " 'host_since',\n",
       " 'host_location',\n",
       " 'host_about',\n",
       " 'host_response_time',\n",
       " 'host_response_rate',\n",
       " 'host_acceptance_rate',\n",
       " 'host_is_superhost',\n",
       " 'host_thumbnail_url',\n",
       " 'host_picture_url',\n",
       " 'host_neighbourhood',\n",
       " 'host_listings_count',\n",
       " 'host_total_listings_count',\n",
       " 'host_verifications',\n",
       " 'host_has_profile_pic',\n",
       " 'host_identity_verified',\n",
       " 'street',\n",
       " 'neighbourhood',\n",
       " 'neighbourhood_cleansed',\n",
       " 'neighbourhood_group_cleansed',\n",
       " 'city',\n",
       " 'state',\n",
       " 'zipcode',\n",
       " 'market',\n",
       " 'smart_location',\n",
       " 'country_code',\n",
       " 'country',\n",
       " 'latitude',\n",
       " 'longitude',\n",
       " 'is_location_exact',\n",
       " 'property_type',\n",
       " 'room_type',\n",
       " 'accommodates',\n",
       " 'bathrooms',\n",
       " 'bedrooms',\n",
       " 'beds',\n",
       " 'bed_type',\n",
       " 'amenities',\n",
       " 'square_feet',\n",
       " 'price',\n",
       " 'weekly_price',\n",
       " 'monthly_price',\n",
       " 'security_deposit',\n",
       " 'cleaning_fee',\n",
       " 'guests_included',\n",
       " 'extra_people',\n",
       " 'minimum_nights',\n",
       " 'maximum_nights',\n",
       " 'minimum_minimum_nights',\n",
       " 'maximum_minimum_nights',\n",
       " 'minimum_maximum_nights',\n",
       " 'maximum_maximum_nights',\n",
       " 'minimum_nights_avg_ntm',\n",
       " 'maximum_nights_avg_ntm',\n",
       " 'calendar_updated',\n",
       " 'has_availability',\n",
       " 'availability_30',\n",
       " 'availability_60',\n",
       " 'availability_90',\n",
       " 'availability_365',\n",
       " 'calendar_last_scraped',\n",
       " 'number_of_reviews',\n",
       " 'number_of_reviews_ltm',\n",
       " 'first_review',\n",
       " 'last_review',\n",
       " 'review_scores_rating',\n",
       " 'review_scores_accuracy',\n",
       " 'review_scores_cleanliness',\n",
       " 'review_scores_checkin',\n",
       " 'review_scores_communication',\n",
       " 'review_scores_location',\n",
       " 'review_scores_value',\n",
       " 'requires_license',\n",
       " 'license',\n",
       " 'jurisdiction_names',\n",
       " 'instant_bookable',\n",
       " 'is_business_travel_ready',\n",
       " 'cancellation_policy',\n",
       " 'require_guest_profile_picture',\n",
       " 'require_guest_phone_verification',\n",
       " 'calculated_host_listings_count',\n",
       " 'calculated_host_listings_count_entire_homes',\n",
       " 'calculated_host_listings_count_private_rooms',\n",
       " 'calculated_host_listings_count_shared_rooms',\n",
       " 'reviews_per_month']"
      ]
     },
     "execution_count": 7,
     "metadata": {},
     "output_type": "execute_result"
    }
   ],
   "source": [
    "list(listings_df.columns)"
   ]
  },
  {
   "cell_type": "code",
   "execution_count": 8,
   "metadata": {},
   "outputs": [],
   "source": [
    "location_listings_df = listings_df[['id', 'street',\n",
    "             'neighbourhood', 'neighbourhood_cleansed', 'neighbourhood_group_cleansed',\n",
    "             'city', 'state', 'zipcode', 'market', 'smart_location', 'country_code', 'country',\n",
    "             'latitude', 'longitude', 'is_location_exact']]"
   ]
  },
  {
   "cell_type": "code",
   "execution_count": 9,
   "metadata": {},
   "outputs": [],
   "source": [
    "def get_cat_columns(df):\n",
    "    \n",
    "    cat_cols = []\n",
    "    \n",
    "    for col in df.columns:\n",
    "        \n",
    "        # include column if it's categories are lower than 30\n",
    "        if len(df[col].value_counts()) < 30:\n",
    "            cat_cols.append(col)\n",
    "            \n",
    "        # include column if it's numeric\n",
    "        elif col in list(listings_df.select_dtypes(include=['float', 'int']).columns):\n",
    "            cat_cols.append(col)\n",
    "            \n",
    "        # include column if it's in property details\n",
    "        elif col in list(location_listings_df.columns):\n",
    "            cat_cols.append(col)\n",
    "    \n",
    "    # ensure all duplicates are removed        \n",
    "    cat_cols = list(set(cat_cols))\n",
    "        \n",
    "    return df[cat_cols]"
   ]
  },
  {
   "cell_type": "code",
   "execution_count": 10,
   "metadata": {},
   "outputs": [],
   "source": [
    "listings_df = get_cat_columns(listings_df)"
   ]
  },
  {
   "cell_type": "code",
   "execution_count": 11,
   "metadata": {},
   "outputs": [
    {
     "data": {
      "text/plain": [
       "23095"
      ]
     },
     "execution_count": 11,
     "metadata": {},
     "output_type": "execute_result"
    }
   ],
   "source": [
    "calendar_df['listing_id'].nunique()"
   ]
  },
  {
   "cell_type": "code",
   "execution_count": 12,
   "metadata": {},
   "outputs": [],
   "source": [
    "calendar_df['date'] = pd.to_datetime(calendar_df['date'])"
   ]
  },
  {
   "cell_type": "code",
   "execution_count": 13,
   "metadata": {},
   "outputs": [
    {
     "data": {
      "text/plain": [
       "t    4734028\n",
       "f    3695730\n",
       "Name: available, dtype: int64"
      ]
     },
     "execution_count": 13,
     "metadata": {},
     "output_type": "execute_result"
    }
   ],
   "source": [
    "calendar_df['available'].value_counts()"
   ]
  },
  {
   "cell_type": "code",
   "execution_count": 14,
   "metadata": {},
   "outputs": [],
   "source": [
    "def remove_dollar(value):\n",
    "    value = value.replace('$', '')\n",
    "    value = value.replace(',', '')\n",
    "    return float(value)"
   ]
  },
  {
   "cell_type": "code",
   "execution_count": 15,
   "metadata": {},
   "outputs": [],
   "source": [
    "calendar_df['adjusted_price'] = calendar_df['adjusted_price'].apply(remove_dollar)\n",
    "calendar_df['price'] = calendar_df['price'].apply(remove_dollar)"
   ]
  },
  {
   "cell_type": "code",
   "execution_count": 16,
   "metadata": {},
   "outputs": [],
   "source": [
    "available_df = calendar_df[calendar_df['available'] == 't']\n",
    "not_available_df = calendar_df[calendar_df['available'] == 'f']"
   ]
  },
  {
   "cell_type": "code",
   "execution_count": 17,
   "metadata": {},
   "outputs": [
    {
     "data": {
      "text/plain": [
       "<matplotlib.axes._subplots.AxesSubplot at 0x26053553240>"
      ]
     },
     "execution_count": 17,
     "metadata": {},
     "output_type": "execute_result"
    },
    {
     "data": {
      "image/png": "[encoded data removed]",
      "text/plain": [
       "<Figure size 864x576 with 1 Axes>"
      ]
     },
     "metadata": {
      "needs_background": "light"
     },
     "output_type": "display_data"
    }
   ],
   "source": [
    "available_df['adjusted_price'].groupby(available_df['date']).mean().plot(figsize=(12, 8))\n",
    "not_available_df['adjusted_price'].groupby(not_available_df['date']).mean().plot(figsize=(12, 8),\n",
    "                                                                                 color='red')"
   ]
  },
  {
   "cell_type": "code",
   "execution_count": 18,
   "metadata": {},
   "outputs": [],
   "source": [
    "def get_listing_mean(listing_id):\n",
    "    return calendar_df[calendar_df['listing_id'] == listing_id]['adjusted_price'].mean()\n",
    "\n",
    "def get_listing_min(listing_id):\n",
    "    return calendar_df[calendar_df['listing_id'] == listing_id]['adjusted_price'].min()\n",
    "\n",
    "def get_listing_max(listing_id):\n",
    "    return calendar_df[calendar_df['listing_id'] == listing_id]['adjusted_price'].max()"
   ]
  },
  {
   "cell_type": "code",
   "execution_count": 19,
   "metadata": {},
   "outputs": [],
   "source": [
    "# price_df = calendar_df['listing_id'].value_counts().reset_index()\n",
    "# price_df.columns = ['listing_id', 'days_available']"
   ]
  },
  {
   "cell_type": "code",
   "execution_count": 20,
   "metadata": {},
   "outputs": [],
   "source": [
    "# price_df['mean_price'] = price_df['listing_id'].apply(get_listing_mean)"
   ]
  },
  {
   "cell_type": "code",
   "execution_count": 21,
   "metadata": {},
   "outputs": [],
   "source": [
    "# price_df['min_price'] = price_df['listing_id'].apply(get_listing_min)"
   ]
  },
  {
   "cell_type": "code",
   "execution_count": 22,
   "metadata": {},
   "outputs": [],
   "source": [
    "# price_df['max_price'] = price_df['listing_id'].apply(get_listing_max)"
   ]
  },
  {
   "cell_type": "code",
   "execution_count": 23,
   "metadata": {},
   "outputs": [],
   "source": [
    "# price_df.drop('days_available', axis=1, inplace=True)"
   ]
  },
  {
   "cell_type": "code",
   "execution_count": 24,
   "metadata": {},
   "outputs": [],
   "source": [
    "price_df = pd.read_csv('price_df.csv')"
   ]
  },
  {
   "cell_type": "code",
   "execution_count": 327,
   "metadata": {},
   "outputs": [],
   "source": [
    "df = pd.merge(listings_df, price_df, left_on='id', right_on='listing_id')\n",
    "df.dropna(how='all', axis=1, inplace=True)"
   ]
  },
  {
   "cell_type": "code",
   "execution_count": 182,
   "metadata": {},
   "outputs": [],
   "source": [
    "def get_ward_mean(ward_name):\n",
    "    return df[df['neighbourhood_cleansed'] == ward_name]['mean_price'].mean()"
   ]
  },
  {
   "cell_type": "code",
   "execution_count": 183,
   "metadata": {},
   "outputs": [],
   "source": [
    "df['ward_mean'] = df['neighbourhood_cleansed'].apply(get_ward_mean)"
   ]
  },
  {
   "cell_type": "code",
   "execution_count": 257,
   "metadata": {},
   "outputs": [
    {
     "name": "stderr",
     "output_type": "stream",
     "text": [
      "C:\\Users\\jcoet\\AppData\\Local\\conda\\conda\\envs\\mine\\lib\\site-packages\\ipykernel_launcher.py:3: SettingWithCopyWarning: \n",
      "A value is trying to be set on a copy of a slice from a DataFrame\n",
      "\n",
      "See the caveats in the documentation: http://pandas.pydata.org/pandas-docs/stable/indexing.html#indexing-view-versus-copy\n",
      "  This is separate from the ipykernel package so we can avoid doing imports until\n"
     ]
    }
   ],
   "source": [
    "ward_mean_df = df[['neighbourhood_cleansed', 'ward_mean']]\n",
    "ward_mean_df.columns = ['ward', 'ward_mean']\n",
    "ward_mean_df.drop_duplicates(subset='ward', inplace=True)"
   ]
  },
  {
   "cell_type": "code",
   "execution_count": 258,
   "metadata": {},
   "outputs": [],
   "source": [
    "ward_geo = geopd.read_file('neighbourhoods.geojson')"
   ]
  },
  {
   "cell_type": "code",
   "execution_count": 320,
   "metadata": {},
   "outputs": [],
   "source": [
    "wards = pd.merge(ward_geo, ward_mean_df,\n",
    "                 left_on='neighbourhood',\n",
    "                right_on='ward')\n",
    "\n",
    "wards.drop(['neighbourhood_group', 'neighbourhood'], axis=1, inplace=True)"
   ]
  },
  {
   "cell_type": "code",
   "execution_count": 261,
   "metadata": {},
   "outputs": [],
   "source": [
    "# One ward's mean was an anomaly and had to be removed \n",
    "\n",
    "wards = wards.sort_values('ward_mean', ascending=False).drop(23)"
   ]
  },
  {
   "cell_type": "code",
   "execution_count": 315,
   "metadata": {},
   "outputs": [],
   "source": [
    "folium_map = folium.Map(location=[-33.9249, 18.4241],\n",
    "               zoom_start=9.6)"
   ]
  },
  {
   "cell_type": "code",
   "execution_count": 316,
   "metadata": {},
   "outputs": [
    {
     "data": {
      "text/plain": [
       "<folium.features.Choropleth at 0x2608c770160>"
      ]
     },
     "execution_count": 316,
     "metadata": {},
     "output_type": "execute_result"
    }
   ],
   "source": [
    "# Add colour fill for municipality boundaries layer\n",
    "\n",
    "folium.Choropleth(\n",
    "    geo_data=ward_geo,\n",
    "    data=wards,\n",
    "    columns=['ward', 'ward_mean'],\n",
    "    key_on= 'properties.neighbourhood',\n",
    "    fill_color='RdYlBu',\n",
    "    line_opacity=0.2,\n",
    "    nan_fill_color='#ff845e'\n",
    ").add_to(folium_map)"
   ]
  },
  {
   "cell_type": "code",
   "execution_count": 317,
   "metadata": {},
   "outputs": [],
   "source": [
    "folium_map"
   ]
  },
  {
   "cell_type": "code",
   "execution_count": 339,
   "metadata": {},
   "outputs": [],
   "source": [
    "corr_df = df.corr().sort_values('mean_price', ascending=False)['mean_price'].reset_index()\n",
    "corr_df.columns = ['feature', 'corr']\n",
    "corr_df['corr_abs'] = corr_df['corr'].abs()"
   ]
  },
  {
   "cell_type": "code",
   "execution_count": 343,
   "metadata": {},
   "outputs": [
    {
     "data": {
      "text/html": [
       "<div>\n",
       "<style scoped>\n",
       "    .dataframe tbody tr th:only-of-type {\n",
       "        vertical-align: middle;\n",
       "    }\n",
       "\n",
       "    .dataframe tbody tr th {\n",
       "        vertical-align: top;\n",
       "    }\n",
       "\n",
       "    .dataframe thead th {\n",
       "        text-align: right;\n",
       "    }\n",
       "</style>\n",
       "<table border=\"1\" class=\"dataframe\">\n",
       "  <thead>\n",
       "    <tr style=\"text-align: right;\">\n",
       "      <th></th>\n",
       "      <th>feature</th>\n",
       "      <th>corr</th>\n",
       "      <th>corr_abs</th>\n",
       "    </tr>\n",
       "  </thead>\n",
       "  <tbody>\n",
       "    <tr>\n",
       "      <th>0</th>\n",
       "      <td>mean_price</td>\n",
       "      <td>1.000000e+00</td>\n",
       "      <td>1.000000e+00</td>\n",
       "    </tr>\n",
       "    <tr>\n",
       "      <th>1</th>\n",
       "      <td>min_price</td>\n",
       "      <td>9.672903e-01</td>\n",
       "      <td>9.672903e-01</td>\n",
       "    </tr>\n",
       "    <tr>\n",
       "      <th>2</th>\n",
       "      <td>max_price</td>\n",
       "      <td>8.978866e-01</td>\n",
       "      <td>8.978866e-01</td>\n",
       "    </tr>\n",
       "    <tr>\n",
       "      <th>3</th>\n",
       "      <td>bathrooms</td>\n",
       "      <td>4.045029e-01</td>\n",
       "      <td>4.045029e-01</td>\n",
       "    </tr>\n",
       "    <tr>\n",
       "      <th>4</th>\n",
       "      <td>accommodates</td>\n",
       "      <td>3.763408e-01</td>\n",
       "      <td>3.763408e-01</td>\n",
       "    </tr>\n",
       "    <tr>\n",
       "      <th>5</th>\n",
       "      <td>square_feet</td>\n",
       "      <td>3.509092e-01</td>\n",
       "      <td>3.509092e-01</td>\n",
       "    </tr>\n",
       "    <tr>\n",
       "      <th>6</th>\n",
       "      <td>bedrooms</td>\n",
       "      <td>3.465910e-01</td>\n",
       "      <td>3.465910e-01</td>\n",
       "    </tr>\n",
       "    <tr>\n",
       "      <th>7</th>\n",
       "      <td>license</td>\n",
       "      <td>3.246245e-01</td>\n",
       "      <td>3.246245e-01</td>\n",
       "    </tr>\n",
       "    <tr>\n",
       "      <th>8</th>\n",
       "      <td>beds</td>\n",
       "      <td>2.652948e-01</td>\n",
       "      <td>2.652948e-01</td>\n",
       "    </tr>\n",
       "    <tr>\n",
       "      <th>9</th>\n",
       "      <td>guests_included</td>\n",
       "      <td>1.861275e-01</td>\n",
       "      <td>1.861275e-01</td>\n",
       "    </tr>\n",
       "    <tr>\n",
       "      <th>29</th>\n",
       "      <td>longitude</td>\n",
       "      <td>-1.138744e-01</td>\n",
       "      <td>1.138744e-01</td>\n",
       "    </tr>\n",
       "    <tr>\n",
       "      <th>28</th>\n",
       "      <td>reviews_per_month</td>\n",
       "      <td>-1.083258e-01</td>\n",
       "      <td>1.083258e-01</td>\n",
       "    </tr>\n",
       "    <tr>\n",
       "      <th>27</th>\n",
       "      <td>review_scores_value</td>\n",
       "      <td>-6.230398e-02</td>\n",
       "      <td>6.230398e-02</td>\n",
       "    </tr>\n",
       "    <tr>\n",
       "      <th>26</th>\n",
       "      <td>calculated_host_listings_count_private_rooms</td>\n",
       "      <td>-4.942977e-02</td>\n",
       "      <td>4.942977e-02</td>\n",
       "    </tr>\n",
       "    <tr>\n",
       "      <th>10</th>\n",
       "      <td>review_scores_location</td>\n",
       "      <td>3.951029e-02</td>\n",
       "      <td>3.951029e-02</td>\n",
       "    </tr>\n",
       "    <tr>\n",
       "      <th>11</th>\n",
       "      <td>review_scores_rating</td>\n",
       "      <td>3.525891e-02</td>\n",
       "      <td>3.525891e-02</td>\n",
       "    </tr>\n",
       "    <tr>\n",
       "      <th>12</th>\n",
       "      <td>minimum_nights_avg_ntm</td>\n",
       "      <td>3.234645e-02</td>\n",
       "      <td>3.234645e-02</td>\n",
       "    </tr>\n",
       "    <tr>\n",
       "      <th>13</th>\n",
       "      <td>host_total_listings_count</td>\n",
       "      <td>2.792067e-02</td>\n",
       "      <td>2.792067e-02</td>\n",
       "    </tr>\n",
       "    <tr>\n",
       "      <th>14</th>\n",
       "      <td>host_listings_count</td>\n",
       "      <td>2.792067e-02</td>\n",
       "      <td>2.792067e-02</td>\n",
       "    </tr>\n",
       "    <tr>\n",
       "      <th>25</th>\n",
       "      <td>latitude</td>\n",
       "      <td>-2.060343e-02</td>\n",
       "      <td>2.060343e-02</td>\n",
       "    </tr>\n",
       "    <tr>\n",
       "      <th>24</th>\n",
       "      <td>calculated_host_listings_count_shared_rooms</td>\n",
       "      <td>-1.673577e-02</td>\n",
       "      <td>1.673577e-02</td>\n",
       "    </tr>\n",
       "    <tr>\n",
       "      <th>15</th>\n",
       "      <td>review_scores_checkin</td>\n",
       "      <td>1.431347e-02</td>\n",
       "      <td>1.431347e-02</td>\n",
       "    </tr>\n",
       "    <tr>\n",
       "      <th>23</th>\n",
       "      <td>review_scores_communication</td>\n",
       "      <td>-7.719262e-03</td>\n",
       "      <td>7.719262e-03</td>\n",
       "    </tr>\n",
       "    <tr>\n",
       "      <th>22</th>\n",
       "      <td>review_scores_accuracy</td>\n",
       "      <td>-2.915797e-03</td>\n",
       "      <td>2.915797e-03</td>\n",
       "    </tr>\n",
       "    <tr>\n",
       "      <th>16</th>\n",
       "      <td>maximum_nights_avg_ntm</td>\n",
       "      <td>2.123881e-03</td>\n",
       "      <td>2.123881e-03</td>\n",
       "    </tr>\n",
       "    <tr>\n",
       "      <th>21</th>\n",
       "      <td>id</td>\n",
       "      <td>-2.100691e-03</td>\n",
       "      <td>2.100691e-03</td>\n",
       "    </tr>\n",
       "    <tr>\n",
       "      <th>20</th>\n",
       "      <td>listing_id</td>\n",
       "      <td>-2.100691e-03</td>\n",
       "      <td>2.100691e-03</td>\n",
       "    </tr>\n",
       "    <tr>\n",
       "      <th>17</th>\n",
       "      <td>Unnamed: 0</td>\n",
       "      <td>1.489808e-03</td>\n",
       "      <td>1.489808e-03</td>\n",
       "    </tr>\n",
       "    <tr>\n",
       "      <th>19</th>\n",
       "      <td>review_scores_cleanliness</td>\n",
       "      <td>-9.003956e-04</td>\n",
       "      <td>9.003956e-04</td>\n",
       "    </tr>\n",
       "    <tr>\n",
       "      <th>18</th>\n",
       "      <td>scrape_id</td>\n",
       "      <td>-3.484658e-15</td>\n",
       "      <td>3.484658e-15</td>\n",
       "    </tr>\n",
       "  </tbody>\n",
       "</table>\n",
       "</div>"
      ],
      "text/plain": [
       "                                         feature          corr      corr_abs\n",
       "0                                     mean_price  1.000000e+00  1.000000e+00\n",
       "1                                      min_price  9.672903e-01  9.672903e-01\n",
       "2                                      max_price  8.978866e-01  8.978866e-01\n",
       "3                                      bathrooms  4.045029e-01  4.045029e-01\n",
       "4                                   accommodates  3.763408e-01  3.763408e-01\n",
       "5                                    square_feet  3.509092e-01  3.509092e-01\n",
       "6                                       bedrooms  3.465910e-01  3.465910e-01\n",
       "7                                        license  3.246245e-01  3.246245e-01\n",
       "8                                           beds  2.652948e-01  2.652948e-01\n",
       "9                                guests_included  1.861275e-01  1.861275e-01\n",
       "29                                     longitude -1.138744e-01  1.138744e-01\n",
       "28                             reviews_per_month -1.083258e-01  1.083258e-01\n",
       "27                           review_scores_value -6.230398e-02  6.230398e-02\n",
       "26  calculated_host_listings_count_private_rooms -4.942977e-02  4.942977e-02\n",
       "10                        review_scores_location  3.951029e-02  3.951029e-02\n",
       "11                          review_scores_rating  3.525891e-02  3.525891e-02\n",
       "12                        minimum_nights_avg_ntm  3.234645e-02  3.234645e-02\n",
       "13                     host_total_listings_count  2.792067e-02  2.792067e-02\n",
       "14                           host_listings_count  2.792067e-02  2.792067e-02\n",
       "25                                      latitude -2.060343e-02  2.060343e-02\n",
       "24   calculated_host_listings_count_shared_rooms -1.673577e-02  1.673577e-02\n",
       "15                         review_scores_checkin  1.431347e-02  1.431347e-02\n",
       "23                   review_scores_communication -7.719262e-03  7.719262e-03\n",
       "22                        review_scores_accuracy -2.915797e-03  2.915797e-03\n",
       "16                        maximum_nights_avg_ntm  2.123881e-03  2.123881e-03\n",
       "21                                            id -2.100691e-03  2.100691e-03\n",
       "20                                    listing_id -2.100691e-03  2.100691e-03\n",
       "17                                    Unnamed: 0  1.489808e-03  1.489808e-03\n",
       "19                     review_scores_cleanliness -9.003956e-04  9.003956e-04\n",
       "18                                     scrape_id -3.484658e-15  3.484658e-15"
      ]
     },
     "execution_count": 343,
     "metadata": {},
     "output_type": "execute_result"
    }
   ],
   "source": [
    "corr_df.sort_values('corr_abs', ascending=False)"
   ]
  },
  {
   "cell_type": "code",
   "execution_count": null,
   "metadata": {},
   "outputs": [],
   "source": []
  },
  {
   "cell_type": "code",
   "execution_count": null,
   "metadata": {},
   "outputs": [],
   "source": []
  }
 ],
 "metadata": {
  "kernelspec": {
   "display_name": "Python 3",
   "language": "python",
   "name": "python3"
  },
  "language_info": {
   "codemirror_mode": {
    "name": "ipython",
    "version": 3
   },
   "file_extension": ".py",
   "mimetype": "text/x-python",
   "name": "python",
   "nbconvert_exporter": "python",
   "pygments_lexer": "ipython3",
   "version": "3.6.6"
  }
 },
 "nbformat": 4,
 "nbformat_minor": 2
}
